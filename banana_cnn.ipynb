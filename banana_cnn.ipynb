{
 "cells": [
  {
   "cell_type": "markdown",
   "metadata": {},
   "source": [
    "# Loading Functions.py File, Contains functions of project and libraries"
   ]
  },
  {
   "cell_type": "code",
   "execution_count": 1,
   "metadata": {},
   "outputs": [],
   "source": [
    "from Functions import *"
   ]
  },
  {
   "cell_type": "markdown",
   "metadata": {},
   "source": [
    "# Prepare Test and Train dataset"
   ]
  },
  {
   "cell_type": "code",
   "execution_count": 2,
   "metadata": {},
   "outputs": [
    {
     "name": "stdout",
     "output_type": "stream",
     "text": [
      "number of training examples = 5400\n",
      "number of test examples = 600\n",
      "X_train shape: (5400, 32, 32, 1)\n",
      "Y_train shape: (5400,)\n",
      "X_test shape: (600, 32, 32, 1)\n",
      "Y_test shape: (600,)\n"
     ]
    }
   ],
   "source": [
    "classes, X_train, y_train, X_test, y_test = loadDataset(0,1)"
   ]
  },
  {
   "cell_type": "markdown",
   "metadata": {},
   "source": [
    "# Create instance of CNN model and execute it"
   ]
  },
  {
   "cell_type": "code",
   "execution_count": 3,
   "metadata": {},
   "outputs": [],
   "source": [
    "bananaModel = BananaModel((32,32,1))"
   ]
  },
  {
   "cell_type": "code",
   "execution_count": null,
   "metadata": {},
   "outputs": [],
   "source": [
    "bananaModel = BananaModel((32,32,1))\n",
    "\n",
    "bananaModel.compile(optimizer = \"adam\", loss = \"binary_crossentropy\", metrics = [\"accuracy\"])\n",
    "\n",
    "bananaModel.fit(x = X_train, y = y_train, epochs = 40, batch_size = 20)"
   ]
  },
  {
   "cell_type": "code",
   "execution_count": null,
   "metadata": {},
   "outputs": [],
   "source": [
    "loss, acc = bananaModel.evaluate(X_test, y_test)\n",
    "print (\"Loss = \" + str(loss))\n",
    "print (\"Test Accuracy = \" + str(acc))"
   ]
  },
  {
   "cell_type": "markdown",
   "metadata": {},
   "source": [
    "# Saving CNN model"
   ]
  },
  {
   "cell_type": "code",
   "execution_count": null,
   "metadata": {},
   "outputs": [],
   "source": [
    "bananaModel.save('BananModel-v1.h5')"
   ]
  },
  {
   "cell_type": "markdown",
   "metadata": {},
   "source": [
    "# Finding Banana zone coordinates and store it"
   ]
  },
  {
   "cell_type": "code",
   "execution_count": 3,
   "metadata": {},
   "outputs": [
    {
     "name": "stdout",
     "output_type": "stream",
     "text": [
      "image 0 finished\n",
      "image 1 finished\n",
      "image 2 finished\n",
      "image 3 finished\n",
      "image 4 finished\n",
      "image 5 finished\n",
      "image 6 finished\n",
      "image 7 finished\n",
      "image 8 finished\n",
      "image 9 finished\n",
      "image 10 finished\n",
      "image 11 finished\n",
      "image 12 finished\n",
      "image 13 finished\n",
      "image 14 finished\n",
      "image 15 finished\n",
      "image 16 finished\n",
      "image 17 finished\n",
      "image 18 finished\n",
      "image 19 finished\n"
     ]
    }
   ],
   "source": [
    "model = tf.keras.models.load_model('../models/BananaModel-v-reza.h5')\n",
    "coordinates = {}\n",
    "coordinatesList = []\n",
    "for i in range(0,20):\n",
    "    patches = readPic(i, 'gray', model)\n",
    "    neighbours = findNeighbours(patches)\n",
    "    coordinates = findBananaCoordinates(neighbours, i)\n",
    "    coordinatesList.append(coordinates)\n",
    "    print('image ' + str(i) +\" finished\")\n",
    "    \n",
    "df = pd.DataFrame(coordinatesList)\n",
    "df.to_csv('gray.txt', header=False)"
   ]
  }
 ],
 "metadata": {
  "kernelspec": {
   "display_name": "Python 3",
   "language": "python",
   "name": "python3"
  },
  "language_info": {
   "codemirror_mode": {
    "name": "ipython",
    "version": 3
   },
   "file_extension": ".py",
   "mimetype": "text/x-python",
   "name": "python",
   "nbconvert_exporter": "python",
   "pygments_lexer": "ipython3",
   "version": "3.8.5"
  }
 },
 "nbformat": 4,
 "nbformat_minor": 4
}
